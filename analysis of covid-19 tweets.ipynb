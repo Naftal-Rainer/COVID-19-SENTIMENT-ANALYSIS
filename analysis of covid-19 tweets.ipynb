{
 "cells": [
  {
   "attachments": {},
   "cell_type": "markdown",
   "metadata": {},
   "source": [
    "# Project: Data Analysis of Covid - 19 Tweets\n",
    "\n",
    "\n",
    "## Introduction\n",
    "\n",
    "### **Questions to help understand the data:**\n",
    "- What are the common source of tweets?\n",
    "- What are the common user locations?\n",
    "- What are the most popular hashtags?\n",
    "- Which day and month had the highest number of Tweets?\n",
    "- What are the tweeting trends?"
   ]
  },
  {
   "cell_type": "code",
   "execution_count": 1,
   "metadata": {},
   "outputs": [],
   "source": [
    "import numpy as np \n",
    "import pandas as pd \n",
    "import matplotlib.pyplot as plt\n",
    "import seaborn as sns\n",
    "import warnings \n",
    "import neattext.functions as nfx\n",
    "\n",
    "warnings.filterwarnings('ignore')"
   ]
  },
  {
   "attachments": {},
   "cell_type": "markdown",
   "metadata": {},
   "source": [
    "#### Load Dataset"
   ]
  },
  {
   "cell_type": "code",
   "execution_count": 3,
   "metadata": {},
   "outputs": [
    {
     "data": {
      "text/html": [
       "<div>\n",
       "<style scoped>\n",
       "    .dataframe tbody tr th:only-of-type {\n",
       "        vertical-align: middle;\n",
       "    }\n",
       "\n",
       "    .dataframe tbody tr th {\n",
       "        vertical-align: top;\n",
       "    }\n",
       "\n",
       "    .dataframe thead th {\n",
       "        text-align: right;\n",
       "    }\n",
       "</style>\n",
       "<table border=\"1\" class=\"dataframe\">\n",
       "  <thead>\n",
       "    <tr style=\"text-align: right;\">\n",
       "      <th></th>\n",
       "      <th>user_name</th>\n",
       "      <th>user_location</th>\n",
       "      <th>user_description</th>\n",
       "      <th>user_created</th>\n",
       "      <th>user_followers</th>\n",
       "      <th>user_friends</th>\n",
       "      <th>user_favourites</th>\n",
       "      <th>user_verified</th>\n",
       "      <th>date</th>\n",
       "      <th>text</th>\n",
       "      <th>hashtags</th>\n",
       "      <th>source</th>\n",
       "      <th>is_retweet</th>\n",
       "    </tr>\n",
       "  </thead>\n",
       "  <tbody>\n",
       "    <tr>\n",
       "      <th>125686</th>\n",
       "      <td>Poorvi Nema</td>\n",
       "      <td>Indore, India</td>\n",
       "      <td>MJMC Student</td>\n",
       "      <td>2018-02-12 11:33:21</td>\n",
       "      <td>88</td>\n",
       "      <td>48</td>\n",
       "      <td>1114</td>\n",
       "      <td>False</td>\n",
       "      <td>2020-08-14 07:04:47</td>\n",
       "      <td>Just a reminder india crosses 24 lakh coronavi...</td>\n",
       "      <td>NaN</td>\n",
       "      <td>Twitter for Android</td>\n",
       "      <td>False</td>\n",
       "    </tr>\n",
       "    <tr>\n",
       "      <th>9024</th>\n",
       "      <td>Coronavirus Updates</td>\n",
       "      <td>NaN</td>\n",
       "      <td>COVID-19 (Coronavirus) Latest News &amp; Statistic...</td>\n",
       "      <td>2020-03-07 12:52:51</td>\n",
       "      <td>433</td>\n",
       "      <td>1</td>\n",
       "      <td>0</td>\n",
       "      <td>False</td>\n",
       "      <td>2020-07-25 06:31:23</td>\n",
       "      <td>13 new cases in Georgia \\n\\n[7:31 GMT] #corona...</td>\n",
       "      <td>['coronavirus', 'CoronaVirusUpdate', 'COVID19'...</td>\n",
       "      <td>COVID19-Updates</td>\n",
       "      <td>False</td>\n",
       "    </tr>\n",
       "    <tr>\n",
       "      <th>142369</th>\n",
       "      <td>𝐁𝐞𝐧𝐨𝐧 𝐅𝐫𝐞𝐝 𝐓𝐖𝐈𝐍𝐀𝐌𝐀𝐒𝐈𝐊𝐎™</td>\n",
       "      <td>Kampala, UGANDA</td>\n",
       "      <td>Founder MD &amp; CEO, Lead Consultant @hopeconsult...</td>\n",
       "      <td>2009-04-29 10:27:05</td>\n",
       "      <td>1628</td>\n",
       "      <td>2946</td>\n",
       "      <td>27137</td>\n",
       "      <td>False</td>\n",
       "      <td>2020-08-17 07:06:32</td>\n",
       "      <td>Dear #Ugandans, kindly know that the 66 New #C...</td>\n",
       "      <td>['Ugandans', 'COVID19']</td>\n",
       "      <td>Twitter for Android</td>\n",
       "      <td>False</td>\n",
       "    </tr>\n",
       "    <tr>\n",
       "      <th>90276</th>\n",
       "      <td>Sania Nishtar</td>\n",
       "      <td>Pakistan</td>\n",
       "      <td>Special Assistant of the Prime Minister of Pak...</td>\n",
       "      <td>2012-03-01 05:10:38</td>\n",
       "      <td>362239</td>\n",
       "      <td>55</td>\n",
       "      <td>696</td>\n",
       "      <td>True</td>\n",
       "      <td>2020-08-09 09:19:19</td>\n",
       "      <td>Survey data will 1) assist with rule-based tar...</td>\n",
       "      <td>['Ehsaas', 'COVID19']</td>\n",
       "      <td>Twitter Web App</td>\n",
       "      <td>False</td>\n",
       "    </tr>\n",
       "    <tr>\n",
       "      <th>108839</th>\n",
       "      <td>Belfast Telegraph</td>\n",
       "      <td>Belfast, Northern Ireland</td>\n",
       "      <td>Northern Ireland news, sport, features, opinio...</td>\n",
       "      <td>2009-02-12 15:57:34</td>\n",
       "      <td>185756</td>\n",
       "      <td>15194</td>\n",
       "      <td>171</td>\n",
       "      <td>True</td>\n",
       "      <td>2020-08-11 07:33:47</td>\n",
       "      <td>Coronavirus updates: Around 730,000 UK jobs lo...</td>\n",
       "      <td>['coronavirus', 'COVID19']</td>\n",
       "      <td>TweetDeck</td>\n",
       "      <td>False</td>\n",
       "    </tr>\n",
       "    <tr>\n",
       "      <th>225</th>\n",
       "      <td>Hindustan Petroleum Corporation Limited</td>\n",
       "      <td>India</td>\n",
       "      <td>Official Twitter handle of Hindustan Petroleum...</td>\n",
       "      <td>2010-02-07 03:59:52</td>\n",
       "      <td>152595</td>\n",
       "      <td>1483</td>\n",
       "      <td>37932</td>\n",
       "      <td>True</td>\n",
       "      <td>2020-07-25 12:20:19</td>\n",
       "      <td>We Shall Over Come! With victory in our minds ...</td>\n",
       "      <td>['FightAgainstCorona']</td>\n",
       "      <td>Twitter Web App</td>\n",
       "      <td>False</td>\n",
       "    </tr>\n",
       "    <tr>\n",
       "      <th>52248</th>\n",
       "      <td>SearchSecurity.com</td>\n",
       "      <td>MA: 40.758348,-73.986972</td>\n",
       "      <td>The latest cybersecurity news, tips and featur...</td>\n",
       "      <td>2008-12-10 13:39:49</td>\n",
       "      <td>27352</td>\n",
       "      <td>1063</td>\n",
       "      <td>6447</td>\n",
       "      <td>False</td>\n",
       "      <td>2020-08-01 19:10:02</td>\n",
       "      <td>As employees trickle back into to the office, ...</td>\n",
       "      <td>NaN</td>\n",
       "      <td>Sprout Social</td>\n",
       "      <td>False</td>\n",
       "    </tr>\n",
       "    <tr>\n",
       "      <th>119442</th>\n",
       "      <td>PIB in Maharashtra 🇮🇳</td>\n",
       "      <td>Mumbai, India</td>\n",
       "      <td>Zonal Office of Press Information Bureau @PIB_...</td>\n",
       "      <td>2011-06-02 08:39:48</td>\n",
       "      <td>36947</td>\n",
       "      <td>630</td>\n",
       "      <td>2589</td>\n",
       "      <td>True</td>\n",
       "      <td>2020-08-13 09:51:45</td>\n",
       "      <td>#Coronawatch India\\n\\nMore than 2.68 Crore sam...</td>\n",
       "      <td>['Coronawatch', 'COVID19']</td>\n",
       "      <td>Twitter Web App</td>\n",
       "      <td>False</td>\n",
       "    </tr>\n",
       "    <tr>\n",
       "      <th>77587</th>\n",
       "      <td>PapaPear (aka, Yo Semite Sam)</td>\n",
       "      <td>FL</td>\n",
       "      <td>A conservative says, \"It hasn't happened to me...</td>\n",
       "      <td>2012-05-10 18:59:49</td>\n",
       "      <td>437</td>\n",
       "      <td>479</td>\n",
       "      <td>22555</td>\n",
       "      <td>False</td>\n",
       "      <td>2020-08-06 15:51:19</td>\n",
       "      <td>Aug 6 #Florida #Covid19 update\\n\\nSignificantl...</td>\n",
       "      <td>['Florida', 'Covid19']</td>\n",
       "      <td>Twitter Web App</td>\n",
       "      <td>False</td>\n",
       "    </tr>\n",
       "    <tr>\n",
       "      <th>134425</th>\n",
       "      <td>Rachit Desai</td>\n",
       "      <td>ÜT: 18.547958,73.900569</td>\n",
       "      <td>Entrepreneur. Technophile. Management Consulta...</td>\n",
       "      <td>2010-02-13 02:11:20</td>\n",
       "      <td>260</td>\n",
       "      <td>211</td>\n",
       "      <td>578</td>\n",
       "      <td>False</td>\n",
       "      <td>2020-08-16 07:53:10</td>\n",
       "      <td>What South Korea can teach the world about con...</td>\n",
       "      <td>['SouthKorea', 'covid19']</td>\n",
       "      <td>IFTTT</td>\n",
       "      <td>False</td>\n",
       "    </tr>\n",
       "  </tbody>\n",
       "</table>\n",
       "</div>"
      ],
      "text/plain": [
       "                                      user_name              user_location  \\\n",
       "125686                              Poorvi Nema              Indore, India   \n",
       "9024                        Coronavirus Updates                        NaN   \n",
       "142369                  𝐁𝐞𝐧𝐨𝐧 𝐅𝐫𝐞𝐝 𝐓𝐖𝐈𝐍𝐀𝐌𝐀𝐒𝐈𝐊𝐎™            Kampala, UGANDA   \n",
       "90276                             Sania Nishtar                   Pakistan   \n",
       "108839                        Belfast Telegraph  Belfast, Northern Ireland   \n",
       "225     Hindustan Petroleum Corporation Limited                      India   \n",
       "52248                        SearchSecurity.com   MA: 40.758348,-73.986972   \n",
       "119442                    PIB in Maharashtra 🇮🇳              Mumbai, India   \n",
       "77587             PapaPear (aka, Yo Semite Sam)                         FL   \n",
       "134425                             Rachit Desai    ÜT: 18.547958,73.900569   \n",
       "\n",
       "                                         user_description  \\\n",
       "125686                                       MJMC Student   \n",
       "9024    COVID-19 (Coronavirus) Latest News & Statistic...   \n",
       "142369  Founder MD & CEO, Lead Consultant @hopeconsult...   \n",
       "90276   Special Assistant of the Prime Minister of Pak...   \n",
       "108839  Northern Ireland news, sport, features, opinio...   \n",
       "225     Official Twitter handle of Hindustan Petroleum...   \n",
       "52248   The latest cybersecurity news, tips and featur...   \n",
       "119442  Zonal Office of Press Information Bureau @PIB_...   \n",
       "77587   A conservative says, \"It hasn't happened to me...   \n",
       "134425  Entrepreneur. Technophile. Management Consulta...   \n",
       "\n",
       "               user_created  user_followers  user_friends  user_favourites  \\\n",
       "125686  2018-02-12 11:33:21              88            48             1114   \n",
       "9024    2020-03-07 12:52:51             433             1                0   \n",
       "142369  2009-04-29 10:27:05            1628          2946            27137   \n",
       "90276   2012-03-01 05:10:38          362239            55              696   \n",
       "108839  2009-02-12 15:57:34          185756         15194              171   \n",
       "225     2010-02-07 03:59:52          152595          1483            37932   \n",
       "52248   2008-12-10 13:39:49           27352          1063             6447   \n",
       "119442  2011-06-02 08:39:48           36947           630             2589   \n",
       "77587   2012-05-10 18:59:49             437           479            22555   \n",
       "134425  2010-02-13 02:11:20             260           211              578   \n",
       "\n",
       "        user_verified                 date  \\\n",
       "125686          False  2020-08-14 07:04:47   \n",
       "9024            False  2020-07-25 06:31:23   \n",
       "142369          False  2020-08-17 07:06:32   \n",
       "90276            True  2020-08-09 09:19:19   \n",
       "108839           True  2020-08-11 07:33:47   \n",
       "225              True  2020-07-25 12:20:19   \n",
       "52248           False  2020-08-01 19:10:02   \n",
       "119442           True  2020-08-13 09:51:45   \n",
       "77587           False  2020-08-06 15:51:19   \n",
       "134425          False  2020-08-16 07:53:10   \n",
       "\n",
       "                                                     text  \\\n",
       "125686  Just a reminder india crosses 24 lakh coronavi...   \n",
       "9024    13 new cases in Georgia \\n\\n[7:31 GMT] #corona...   \n",
       "142369  Dear #Ugandans, kindly know that the 66 New #C...   \n",
       "90276   Survey data will 1) assist with rule-based tar...   \n",
       "108839  Coronavirus updates: Around 730,000 UK jobs lo...   \n",
       "225     We Shall Over Come! With victory in our minds ...   \n",
       "52248   As employees trickle back into to the office, ...   \n",
       "119442  #Coronawatch India\\n\\nMore than 2.68 Crore sam...   \n",
       "77587   Aug 6 #Florida #Covid19 update\\n\\nSignificantl...   \n",
       "134425  What South Korea can teach the world about con...   \n",
       "\n",
       "                                                 hashtags  \\\n",
       "125686                                                NaN   \n",
       "9024    ['coronavirus', 'CoronaVirusUpdate', 'COVID19'...   \n",
       "142369                            ['Ugandans', 'COVID19']   \n",
       "90276                               ['Ehsaas', 'COVID19']   \n",
       "108839                         ['coronavirus', 'COVID19']   \n",
       "225                                ['FightAgainstCorona']   \n",
       "52248                                                 NaN   \n",
       "119442                         ['Coronawatch', 'COVID19']   \n",
       "77587                              ['Florida', 'Covid19']   \n",
       "134425                          ['SouthKorea', 'covid19']   \n",
       "\n",
       "                     source  is_retweet  \n",
       "125686  Twitter for Android       False  \n",
       "9024        COVID19-Updates       False  \n",
       "142369  Twitter for Android       False  \n",
       "90276       Twitter Web App       False  \n",
       "108839            TweetDeck       False  \n",
       "225         Twitter Web App       False  \n",
       "52248         Sprout Social       False  \n",
       "119442      Twitter Web App       False  \n",
       "77587       Twitter Web App       False  \n",
       "134425                IFTTT       False  "
      ]
     },
     "execution_count": 3,
     "metadata": {},
     "output_type": "execute_result"
    }
   ],
   "source": [
    "df = pd.read_csv('covid19_tweets.csv')\n",
    "df.sample(10)"
   ]
  },
  {
   "attachments": {},
   "cell_type": "markdown",
   "metadata": {},
   "source": [
    "## Data Overview\n",
    "\n",
    "#### **Visual Data Assessment**\n",
    "- Prescence of Null Values.\n",
    "- Prescence of hashtags in the text column.\n",
    "- Prescence of urls in the text column.\n",
    "- Prescence of spaces in the text column.\n",
    "- Prescence of symbols in the text column.\n",
    "- Prescence of spaces in the text column.\n",
    "\n",
    "#### **Programmatic Data Assessment**\n"
   ]
  },
  {
   "cell_type": "code",
   "execution_count": 5,
   "metadata": {},
   "outputs": [
    {
     "data": {
      "text/plain": [
       "(179108, 13)"
      ]
     },
     "execution_count": 5,
     "metadata": {},
     "output_type": "execute_result"
    }
   ],
   "source": [
    "df.shape"
   ]
  },
  {
   "cell_type": "code",
   "execution_count": 4,
   "metadata": {},
   "outputs": [
    {
     "data": {
      "text/plain": [
       "Index(['user_name', 'user_location', 'user_description', 'user_created',\n",
       "       'user_followers', 'user_friends', 'user_favourites', 'user_verified',\n",
       "       'date', 'text', 'hashtags', 'source', 'is_retweet'],\n",
       "      dtype='object')"
      ]
     },
     "execution_count": 4,
     "metadata": {},
     "output_type": "execute_result"
    }
   ],
   "source": [
    "df.columns"
   ]
  },
  {
   "cell_type": "code",
   "execution_count": 6,
   "metadata": {},
   "outputs": [
    {
     "data": {
      "text/plain": [
       "user_name           object\n",
       "user_location       object\n",
       "user_description    object\n",
       "user_created        object\n",
       "user_followers       int64\n",
       "user_friends         int64\n",
       "user_favourites      int64\n",
       "user_verified         bool\n",
       "date                object\n",
       "text                object\n",
       "hashtags            object\n",
       "source              object\n",
       "is_retweet            bool\n",
       "dtype: object"
      ]
     },
     "execution_count": 6,
     "metadata": {},
     "output_type": "execute_result"
    }
   ],
   "source": [
    "# Data types\n",
    "df.dtypes"
   ]
  },
  {
   "cell_type": "markdown",
   "metadata": {},
   "source": [
    "**Observations**\n",
    "\n",
    "- The data has 179108 records and 13 features. \n",
    "- The user_created and date features data type is incorrect\n",
    "- Some locations are expressed as longitudes and latitudes."
   ]
  },
  {
   "cell_type": "markdown",
   "metadata": {},
   "source": [
    "## Data Wrangling"
   ]
  },
  {
   "cell_type": "code",
   "execution_count": 7,
   "metadata": {},
   "outputs": [],
   "source": [
    "data = df.copy()"
   ]
  },
  {
   "cell_type": "code",
   "execution_count": 8,
   "metadata": {},
   "outputs": [
    {
     "name": "stdout",
     "output_type": "stream",
     "text": [
      "<class 'pandas.core.frame.DataFrame'>\n",
      "RangeIndex: 179108 entries, 0 to 179107\n",
      "Data columns (total 13 columns):\n",
      " #   Column            Non-Null Count   Dtype \n",
      "---  ------            --------------   ----- \n",
      " 0   user_name         179108 non-null  object\n",
      " 1   user_location     142337 non-null  object\n",
      " 2   user_description  168822 non-null  object\n",
      " 3   user_created      179108 non-null  object\n",
      " 4   user_followers    179108 non-null  int64 \n",
      " 5   user_friends      179108 non-null  int64 \n",
      " 6   user_favourites   179108 non-null  int64 \n",
      " 7   user_verified     179108 non-null  bool  \n",
      " 8   date              179108 non-null  object\n",
      " 9   text              179108 non-null  object\n",
      " 10  hashtags          127774 non-null  object\n",
      " 11  source            179031 non-null  object\n",
      " 12  is_retweet        179108 non-null  bool  \n",
      "dtypes: bool(2), int64(3), object(8)\n",
      "memory usage: 15.4+ MB\n"
     ]
    }
   ],
   "source": [
    "data.info()"
   ]
  },
  {
   "cell_type": "markdown",
   "metadata": {},
   "source": [
    "Convert data types"
   ]
  },
  {
   "cell_type": "code",
   "execution_count": 10,
   "metadata": {},
   "outputs": [],
   "source": [
    "data['user_created'] = pd.to_datetime(data['user_created'], errors='coerce')\n",
    "data['date'] = pd.to_datetime(data['date'], errors='coerce')"
   ]
  },
  {
   "cell_type": "code",
   "execution_count": 12,
   "metadata": {},
   "outputs": [
    {
     "data": {
      "text/plain": [
       "user_name                   object\n",
       "user_location               object\n",
       "user_description            object\n",
       "user_created        datetime64[ns]\n",
       "user_followers               int64\n",
       "user_friends                 int64\n",
       "user_favourites              int64\n",
       "user_verified                 bool\n",
       "date                datetime64[ns]\n",
       "text                        object\n",
       "hashtags                    object\n",
       "source                      object\n",
       "is_retweet                    bool\n",
       "dtype: object"
      ]
     },
     "execution_count": 12,
     "metadata": {},
     "output_type": "execute_result"
    }
   ],
   "source": [
    "data.infer_objects().dtypes"
   ]
  },
  {
   "cell_type": "code",
   "execution_count": 13,
   "metadata": {},
   "outputs": [
    {
     "data": {
      "text/html": [
       "<div>\n",
       "<style scoped>\n",
       "    .dataframe tbody tr th:only-of-type {\n",
       "        vertical-align: middle;\n",
       "    }\n",
       "\n",
       "    .dataframe tbody tr th {\n",
       "        vertical-align: top;\n",
       "    }\n",
       "\n",
       "    .dataframe thead th {\n",
       "        text-align: right;\n",
       "    }\n",
       "</style>\n",
       "<table border=\"1\" class=\"dataframe\">\n",
       "  <thead>\n",
       "    <tr style=\"text-align: right;\">\n",
       "      <th></th>\n",
       "      <th>user_name</th>\n",
       "      <th>user_location</th>\n",
       "      <th>user_description</th>\n",
       "      <th>user_created</th>\n",
       "      <th>user_followers</th>\n",
       "      <th>user_friends</th>\n",
       "      <th>user_favourites</th>\n",
       "      <th>user_verified</th>\n",
       "      <th>date</th>\n",
       "      <th>text</th>\n",
       "      <th>hashtags</th>\n",
       "      <th>source</th>\n",
       "      <th>is_retweet</th>\n",
       "    </tr>\n",
       "  </thead>\n",
       "  <tbody>\n",
       "    <tr>\n",
       "      <th>0</th>\n",
       "      <td>ᏉᎥ☻լꂅϮ</td>\n",
       "      <td>astroworld</td>\n",
       "      <td>wednesday addams as a disney princess keepin i...</td>\n",
       "      <td>2017-05-26 05:46:42</td>\n",
       "      <td>624</td>\n",
       "      <td>950</td>\n",
       "      <td>18775</td>\n",
       "      <td>False</td>\n",
       "      <td>2020-07-25 12:27:21</td>\n",
       "      <td>If I smelled the scent of hand sanitizers toda...</td>\n",
       "      <td>NaN</td>\n",
       "      <td>Twitter for iPhone</td>\n",
       "      <td>False</td>\n",
       "    </tr>\n",
       "    <tr>\n",
       "      <th>1</th>\n",
       "      <td>Tom Basile 🇺🇸</td>\n",
       "      <td>New York, NY</td>\n",
       "      <td>Husband, Father, Columnist &amp; Commentator. Auth...</td>\n",
       "      <td>2009-04-16 20:06:23</td>\n",
       "      <td>2253</td>\n",
       "      <td>1677</td>\n",
       "      <td>24</td>\n",
       "      <td>True</td>\n",
       "      <td>2020-07-25 12:27:17</td>\n",
       "      <td>Hey @Yankees @YankeesPR and @MLB - wouldn't it...</td>\n",
       "      <td>NaN</td>\n",
       "      <td>Twitter for Android</td>\n",
       "      <td>False</td>\n",
       "    </tr>\n",
       "    <tr>\n",
       "      <th>2</th>\n",
       "      <td>Time4fisticuffs</td>\n",
       "      <td>Pewee Valley, KY</td>\n",
       "      <td>#Christian #Catholic #Conservative #Reagan #Re...</td>\n",
       "      <td>2009-02-28 18:57:41</td>\n",
       "      <td>9275</td>\n",
       "      <td>9525</td>\n",
       "      <td>7254</td>\n",
       "      <td>False</td>\n",
       "      <td>2020-07-25 12:27:14</td>\n",
       "      <td>@diane3443 @wdunlap @realDonaldTrump Trump nev...</td>\n",
       "      <td>['COVID19']</td>\n",
       "      <td>Twitter for Android</td>\n",
       "      <td>False</td>\n",
       "    </tr>\n",
       "    <tr>\n",
       "      <th>3</th>\n",
       "      <td>ethel mertz</td>\n",
       "      <td>Stuck in the Middle</td>\n",
       "      <td>#Browns #Indians #ClevelandProud #[]_[] #Cavs ...</td>\n",
       "      <td>2019-03-07 01:45:06</td>\n",
       "      <td>197</td>\n",
       "      <td>987</td>\n",
       "      <td>1488</td>\n",
       "      <td>False</td>\n",
       "      <td>2020-07-25 12:27:10</td>\n",
       "      <td>@brookbanktv The one gift #COVID19 has give me...</td>\n",
       "      <td>['COVID19']</td>\n",
       "      <td>Twitter for iPhone</td>\n",
       "      <td>False</td>\n",
       "    </tr>\n",
       "    <tr>\n",
       "      <th>4</th>\n",
       "      <td>DIPR-J&amp;K</td>\n",
       "      <td>Jammu and Kashmir</td>\n",
       "      <td>🖊️Official Twitter handle of Department of Inf...</td>\n",
       "      <td>2017-02-12 06:45:15</td>\n",
       "      <td>101009</td>\n",
       "      <td>168</td>\n",
       "      <td>101</td>\n",
       "      <td>False</td>\n",
       "      <td>2020-07-25 12:27:08</td>\n",
       "      <td>25 July : Media Bulletin on Novel #CoronaVirus...</td>\n",
       "      <td>['CoronaVirusUpdates', 'COVID19']</td>\n",
       "      <td>Twitter for Android</td>\n",
       "      <td>False</td>\n",
       "    </tr>\n",
       "  </tbody>\n",
       "</table>\n",
       "</div>"
      ],
      "text/plain": [
       "         user_name         user_location  \\\n",
       "0           ᏉᎥ☻լꂅϮ            astroworld   \n",
       "1    Tom Basile 🇺🇸          New York, NY   \n",
       "2  Time4fisticuffs      Pewee Valley, KY   \n",
       "3      ethel mertz  Stuck in the Middle    \n",
       "4         DIPR-J&K     Jammu and Kashmir   \n",
       "\n",
       "                                    user_description        user_created  \\\n",
       "0  wednesday addams as a disney princess keepin i... 2017-05-26 05:46:42   \n",
       "1  Husband, Father, Columnist & Commentator. Auth... 2009-04-16 20:06:23   \n",
       "2  #Christian #Catholic #Conservative #Reagan #Re... 2009-02-28 18:57:41   \n",
       "3  #Browns #Indians #ClevelandProud #[]_[] #Cavs ... 2019-03-07 01:45:06   \n",
       "4  🖊️Official Twitter handle of Department of Inf... 2017-02-12 06:45:15   \n",
       "\n",
       "   user_followers  user_friends  user_favourites  user_verified  \\\n",
       "0             624           950            18775          False   \n",
       "1            2253          1677               24           True   \n",
       "2            9275          9525             7254          False   \n",
       "3             197           987             1488          False   \n",
       "4          101009           168              101          False   \n",
       "\n",
       "                 date                                               text  \\\n",
       "0 2020-07-25 12:27:21  If I smelled the scent of hand sanitizers toda...   \n",
       "1 2020-07-25 12:27:17  Hey @Yankees @YankeesPR and @MLB - wouldn't it...   \n",
       "2 2020-07-25 12:27:14  @diane3443 @wdunlap @realDonaldTrump Trump nev...   \n",
       "3 2020-07-25 12:27:10  @brookbanktv The one gift #COVID19 has give me...   \n",
       "4 2020-07-25 12:27:08  25 July : Media Bulletin on Novel #CoronaVirus...   \n",
       "\n",
       "                            hashtags               source  is_retweet  \n",
       "0                                NaN   Twitter for iPhone       False  \n",
       "1                                NaN  Twitter for Android       False  \n",
       "2                        ['COVID19']  Twitter for Android       False  \n",
       "3                        ['COVID19']   Twitter for iPhone       False  \n",
       "4  ['CoronaVirusUpdates', 'COVID19']  Twitter for Android       False  "
      ]
     },
     "execution_count": 13,
     "metadata": {},
     "output_type": "execute_result"
    }
   ],
   "source": [
    "data.head()"
   ]
  },
  {
   "cell_type": "markdown",
   "metadata": {},
   "source": [
    "## Exploratory Data Analysis"
   ]
  },
  {
   "attachments": {},
   "cell_type": "markdown",
   "metadata": {},
   "source": [
    "#### Source of tweets."
   ]
  },
  {
   "cell_type": "code",
   "execution_count": 15,
   "metadata": {},
   "outputs": [
    {
     "data": {
      "text/plain": [
       "array(['Twitter for iPhone', 'Twitter for Android', 'Twitter Web App',\n",
       "       'Buffer', 'TweetDeck', 'Twitter for iPad', 'Africa Newsroom',\n",
       "       'Blood Donors India', 'TweetCaster for Android',\n",
       "       'Alexander Higgins', 'IFTTT', 'Hootsuite Inc.', 'Sprout Social',\n",
       "       'Sprinklr', 'assarofficial', 'IAMBLOG2TWITTER', 'CrowdControlHQ',\n",
       "       'COVID19-Updates', 'EveryoneSocial', 'Dynamic Signal', 'Instagram',\n",
       "       'TweetCaster for iOS', 'GlobalPandemic.NET', 'Venrap Radio',\n",
       "       'HeyOrca', 'Twitter for Advertisers', 'Paper.li',\n",
       "       'Twitter Media Studio', 'Twitter for Mac', 'dlvr.it',\n",
       "       'Cheap Bots, Done Quick!', 'Prof. Shanku', 'LaterMedia',\n",
       "       'SEMrush Social Media Tool', 'Twitterrific for iOS',\n",
       "       \"Sebastian's Twitter Bot\", 'Threader_client', 'COVID19FactoidBot',\n",
       "       'PwC UK SMART', 'tweet pro stiff', 'UK COVID-19 Alerts',\n",
       "       'Resistbot Open Letters', 'preprint-alert', 'ContentStudio.io',\n",
       "       'Peeping Moon', 'TweetAutomaticos', 'Orlo', 'AgoraPulse Manager',\n",
       "       'Meltwater Social', 'Blog2Social APP',\n",
       "       'Social Genie by Brighter Vision', 'Social Media Publisher App ',\n",
       "       'VoiceToData', 'Hearsay Social', 'Metricool', 'SocialPilot.co',\n",
       "       'Loomly', 'Оwly', 'Facelift-Cloud', 'Khoros', 'Oktopost',\n",
       "       'coronaData_Test', 'SocialOomph', 'SmarterQueue',\n",
       "       'Salesforce - Social Studio', 'Twittimer', 'Dolar Değişti!',\n",
       "       'COVID19 Update', 'LinkedIn', 'Socialbakers',\n",
       "       'Bambu by Sprout Social', 'HubSpot', 'National Herald',\n",
       "       'Twitter Ads', 'twootlk', 'WordPress.com',\n",
       "       'Twitter Media Studio - LiveCut', 'Covid-19 Bot',\n",
       "       'Tweetbot for iΟS', 'Zoho Social', 'Mobile Web (M2)',\n",
       "       'Global Citizen Mobile App', 'whatSaoCarlos', 'Tweetbot for Mac',\n",
       "       'FS Poster', 'rate_twitte', 'corona-recoveries',\n",
       "       'The Social Jukebox', 'ContentCal Studio', 'OneUp App',\n",
       "       'Promo.com', 'TopHashtags', 'autotweet scheduler', 'NepalCorona',\n",
       "       'Khoros Marketing', 'Hocalwire Social Share', 'DataScienceInfo',\n",
       "       'crystalwind.ca', 'SNAP-Homeless Times',\n",
       "       'COVID-19 Information Bot', 'eMartmarket', 'trackingbot2020',\n",
       "       'MeetEdgar', 'Twidere for Android', 'econ b2b post', 'Aleph א ',\n",
       "       'SocialBee.io v2', 'Spreaker', 'ExanteData Robots', 'Mention\\xa0',\n",
       "       'Sked Social', 'Periscope', 'CoronaVirus Bot by Sloth',\n",
       "       'dailyindia', 'Tweet Suite', 'SurveyCircle Team', 'PTI_Tweets',\n",
       "       'Swat.io', 'Restream.io', 'Powered by Sprinklr', 'GT_Backend',\n",
       "       'HN_Comments', '@thedextazlab', 'China Xinhua News', 'ArmeniaITN',\n",
       "       'Crowdfire App', 'Microsoft Power Platform', 'Bitly', 'Echofon',\n",
       "       'Ripl App', 'WPwamnwebsitescript', 'corona_stats',\n",
       "       'CoronaTrackerMY', 'The Tweeted Times', 'Qureet Leads',\n",
       "       'Threat Intel Hub', 'My Khel', 'Falcon Social Media Management ',\n",
       "       'Zapier.com', 'Echobox', 'Scoop.it', 'SocialRabbit Plugin',\n",
       "       'covid19_tracker', 'Cubi.so', 'SocialChamp IO ', 'twittbot.net',\n",
       "       'pixiv: Post to Twitter', 'drumup.io', 'mpsontwitter.co.uk',\n",
       "       'Covid19daily', 'SocialFlow', 'Vattel Tracker Dev',\n",
       "       'Radio.co now playing', 'POST.it - Edit,Share,Rediscover',\n",
       "       'SocialNewsDesk', nan, 'Phone2Action', 'tweeter_biases',\n",
       "       'Heropost', 'rhega.net', 'Nuzzel', 'DR Data', 'Seket Aanru LVLII',\n",
       "       'Grabyo', 'sphere_ja_bot', 'Wildmoka', 'TrackerCV',\n",
       "       \"iContact's Social Tools\", 'Igorotage', 'HWD', 'Mailchimp',\n",
       "       'Sprinklr Publishing', 'Integromat', 'Fabrik.fm',\n",
       "       'Clearview Social, Inc.', 'Friends Me', 'Stuffed Productions',\n",
       "       'Revive Social App', 'Flamingo for Android',\n",
       "       'Microsoft Azure Logic Apps', 'MavSocial App', 'Smarp.',\n",
       "       'UberSocial for Android', 'Missinglettr', 'Canva', 'Talon Android',\n",
       "       'Konnect Social', 'Siargao Guide', 'PinkVilla', 'Penname',\n",
       "       'Kashmir Life', \"Monty's Twitter Reposter\", 'SnapStream TV Search',\n",
       "       'WatchDog Uganda', 'True Anthem', 'MarketingSuite', 'Corona-Stats',\n",
       "       'Twitter for  iPhone', 'Social Head', 'BookClubProTweet',\n",
       "       'covid19_counter', 'PromoRepublic', 'PolitiHUB.us', 'Raven Tools',\n",
       "       'COVID19-Tweet', 'Cancer Health Auto Tweet', 'remote.io',\n",
       "       'Arena.im', 'Isrg', 'Constant Contact', 'Google', 'VegaLms',\n",
       "       'DTR Auto Post', 'CoSchedule', 'COVID19 Daily Stats', 'CovidDay',\n",
       "       'COVID-19MX', 'SmartNews | スマートニュース', 'Spire FM', 'eClincher',\n",
       "       'Typepad', 'Publer ', 'Botbird tweets', 'shankar_live_bot',\n",
       "       'Shauntv', \"Bob's Python tweetbot\", 'Sprinklr Publisher',\n",
       "       'Commun.it Intelligence', 'Nintendo Switch Share',\n",
       "       \"Stalin's Twitter Reposter\", 'WeVideo', 'recurpost.com',\n",
       "       'El Cañonazo de las 9', 'Tweetings for Android', 'JoinDiaspora',\n",
       "       'Post Planner Inc.', 'DopeyUncle2', 'COVIDRecoveredBot',\n",
       "       'Qnary.io', 'Canada Covid-19 Stats', 'Twitter Test App P',\n",
       "       'Nelio Content', 'PlayStation®Network', 'Covid19_MV',\n",
       "       'Postcron App', 'TtwTimes Top News', 'Chicken Nugget',\n",
       "       'Plume\\xa0for\\xa0Android', 'Fenix 2', 'ETRetail.com',\n",
       "       'Campaign Share', 'Postfity.com', 'newsgovhk', 'Sociality.io',\n",
       "       'Echofon  Android', \"Rumpet's Twitter Poster\", 'PostBeyond',\n",
       "       'dnh twitter publisher', 'news_by_gatfil', 'Pardot',\n",
       "       'App for IconicHipster.com', 'CovidUpdatesBot', 'KhuramKTS',\n",
       "       'NIAAuto', 'fovle', 'Imminent News', 'PublishBestNews',\n",
       "       'LFALSNAPAP', 'HW news english', 'StreamElements',\n",
       "       'Mediaproxy LogJam', 'dancehallaudio',\n",
       "       'Liberal Forum Political Chat', 'NippyTweet',\n",
       "       'That Best Home Automation', 'Dear_Assistant', 'Bot Libre!',\n",
       "       'NCoV-19 Tracker', 'tprzechlewski.app', 'DataBlogger',\n",
       "       'POZ Auto Tweet', 'SocialDog for Twitter', 'AtlantaTechBlogs',\n",
       "       'ReadyForSocial App', 'Traject Social', 'abrbuzz',\n",
       "       'Auto-Post (IMW)', 'ME Construction News', 'NetNaija Twiit',\n",
       "       'TrafficChiefNG', 'EUobserver', 'Flote.app', 'aa.com.tr',\n",
       "       'Twitterrific for Mac', 'Bizcommunity.com', 'Covid Robot',\n",
       "       'VoxPop Sync', 'stocktitan', 'StockTwits Web', 'Dr. Kill Pain',\n",
       "       'SociabbleApp', 'Post to Social by SHIFT1', 'PRNewswire',\n",
       "       'Hep Auto Tweet', 'Chorus publishing platform',\n",
       "       'masterdebater.net', 'A Touch of Snark', 'Login CricketCountry',\n",
       "       \"Let's Talk Singapore\", 'RiteKit', 'Etsy', 'Zlappo.com',\n",
       "       'DirectorsTalk Auto Posting', 'GlobalVillageSpace',\n",
       "       'TeamSight Publisher', 'naalikeram', 'Amplifr', 'News Medical',\n",
       "       'Agenparl', 'Hacker Noon', 'Salsa Social Publishing', 'feedspora2',\n",
       "       'Tech_Tee_Shop', 'CensoredTodayPoster', 'Tumblr', 'Weebly App',\n",
       "       'science faction twitter bot', 'SocialHub by maloon', 'PNSposter',\n",
       "       'Social Reputation', 'RSS Masher - Dev', 'Planable', 'Trump OwO',\n",
       "       \"Bongani's Auto Poster\", 'TTYtter', 'BAPSCharities',\n",
       "       'thefivedaily', 'RegulatorWatch.com', 'BrentStafford.com',\n",
       "       'Phil Ammann', 'flapol', 'Squarespace', 'VoiceFeed',\n",
       "       'Libsyn On-Publish', 'Sharpspring', 'Twitseq', 'Social Press Kit',\n",
       "       'Lightful', 'Gain Platform', 'OregonCovidApp',\n",
       "       'Dynamics 365 for Marketing', 'yorkshire-times', 'Contento App',\n",
       "       'XHNorthAmerica', 'ContentMX', 'opendorse', 'Greenfly',\n",
       "       'Freshdesk', 'Triberr', 'EdgeTheory', 'Emma Social Connector',\n",
       "       'POZ Global Auto Tweets', 'likefollowretweet', 'Healio Twitter',\n",
       "       'Partnermarketing.com', 'EnrichrBot', 'Statusbrew',\n",
       "       'Zift Platform', 'Constant Contact - Social Posts', 'Tweepsmap',\n",
       "       'WayScript', 'SoCast Digital', 'allAfrica.com', 'paulcrypto',\n",
       "       'nwindianabusiness.com', 'tc_covid_bot', 'Newry.ie',\n",
       "       'SPTK: DVOrangeCounty', 'cmsoc', 'VoterVoice Tweet', 'Rallio',\n",
       "       'FalconPro3', 'Cloud Campaign', 'RelojesESP', 'Socialchief',\n",
       "       'SpaceRefTweet', 'PLAYLOADED.COM', 'TD Wealth Social Centre',\n",
       "       'covid19oceanupdate', 'Janetter Pro for Android',\n",
       "       'Fortinet Partner Social', 'Emphatic', 'BLOX CMS',\n",
       "       'Onollo Software', 'GCCHD', 'floridapolitics.com', 'Web lider',\n",
       "       'SOCi - Simplifying Social Media', 'Contentpilot', 'ayasetenchi',\n",
       "       'Chimpify', \"K's posts\", 'Downtime Monkey', 'COVID19TwitterKenya',\n",
       "       'Quotes as image', 'Lead Accel', 'Streamlabs Twitter',\n",
       "       'Dynamic Tweets', 'LatelyAI', 'Foursquare', 'Maat_Interface',\n",
       "       'coronaBot-Purvesh', 'OneCMS Social Connect', 'BTCNbot',\n",
       "       'InterfaceCDM', 'QuickTake by Bloomberg', 'Fan Page Robot',\n",
       "       'Hypefury', 'VotepledgeBot', 'covidestimates',\n",
       "       'Phone2Action Advocacy', 'Enthusiast97', 'NewsAutocorrect',\n",
       "       'Ohhtweet', 'TheLancsTimes', 'TW Blue', 'Apphi',\n",
       "       'Canada COVID-19 Bot', 'standard3d', 'chirr.app',\n",
       "       'GearGuide Twitter', 'SlackSocial', 'Pressenza IPA eng',\n",
       "       'SiteAssist Social Posting', 'ZenRud', 'ThreadReaderApp',\n",
       "       'Cognitive Website', 'UNIAN.info', 'UNIAN Info',\n",
       "       'Tech Nation News updates', 'Fenix for Android', 'Percolate',\n",
       "       'GroupTweet', 'Social Aider', 'CyberSecDN v.2',\n",
       "       'Inclusibot_Revenge', 'Nolwa-Digital', 'OS X', \"Janindu's Bot\",\n",
       "       'Influitive', 'Tweecha Lite', 'SocialShare PRD',\n",
       "       'Woofy Social Media Scheduler', 'ISN Autotweet',\n",
       "       'App for TonysTShirts', 'Market Beam', 'PLANOLY', 'COVIDTweetBot',\n",
       "       'eupdater', 'Newswise Expert Pitch', 'Bigram Poetry',\n",
       "       'Imbibe Website Publishing', 'PixelTweeter', 'Coosto', 'Nonli',\n",
       "       'Blackbird Video Platform/Amplify', 'ALCOVID19',\n",
       "       'Hub Central APP Agencies', 'Marketing Agency', '4strat-foresight',\n",
       "       'audioBoom', 'Grapevine6', 'GaggleAMP', 'StockBot0001',\n",
       "       'SocialPost App', 'Right Relevance', 'Social5',\n",
       "       'COVID Articles on SP Journals', 'coronalivebot',\n",
       "       'Ontario_Covid19', 'Zymplify', 'Whitley2020', 'ChimpReports_',\n",
       "       'OnlyPultCom', 'Washington Square Parkerz', 'WashSquarePrkrz',\n",
       "       'VA COVID-19 Updates', 'twmode', 'www.diolch.wales',\n",
       "       'COVID-19 Alerts', 'TMZ iPhone Social Application',\n",
       "       'Elgato Stream Deck', 'Bloglovin', 'Coronavirus tracker bot',\n",
       "       \"Joe's Politics\", 'TwitPane for Android', 'EastMojo',\n",
       "       'Co-Kinetic ', 'Moa Bridge', 'UhmazingPressRelease',\n",
       "       'Ozclubbers Posts', '15 Minute Fun', 'plague-bot', 'Ryzely',\n",
       "       'LegendLakeComApp', 'STL.News', 'Tweetlogix', 'WoopSocial',\n",
       "       'Vaccines and Homeopathy News', 'Lately Social', 'SocialGest',\n",
       "       'BS-SMAP', 'PressPage Manager', 'Snaps1', 'App Political Hispanic',\n",
       "       '24liveblog', 'Choqok', 'GovernmentCyberWeb', 'PublishToTwitter',\n",
       "       'xh_scitech', 'WP to Twitter EPR', 'Ground News',\n",
       "       'Twitter Web Client', 'uwf.london', 'Posting Platform',\n",
       "       'WP to Twitter IAR', 'Total Travel TAG', '_stranger_twitterbot_',\n",
       "       'Paiger', 'CGS Tech Tweeter', ' Xinhua Sports', 'TanPaulus27',\n",
       "       'Mastodon-Twitter Crossposter', 'TS Auto Tweet', 'RH Auto Tweet',\n",
       "       'Twibble.io', 'Portal de CNMG', 'Revive Old NatCorn Posts',\n",
       "       'The Recycler', 'Kontentino', 'PostPickr', 'HealthBuzz Tweets',\n",
       "       'CIO Tech Asia Twitter', 'PolitiTweet Alerts', 'Africa News Hub',\n",
       "       'Dram Scotland', 'oneindia entertainment', 'gifincric',\n",
       "       'The Shirt List', 'Hail — Create Curate Communicate',\n",
       "       \"Hamish's Twitter Reposter\", 'Sane Auto Tweet', 'forafriendbot',\n",
       "       'Boma Marketing', 'Fox XRIO 2 News ', 'trumpDigest', 'CivilDialog',\n",
       "       'Do It Later', 'ActivewearShopping', 'peetm', 'covid19statusbot',\n",
       "       'Academia Meme Stack', 'The Unshackled',\n",
       "       'Unshackled Content Poster', 'The Tweeted Times Mobile',\n",
       "       'BT Production Site', 'Freebie-Depot', 'CareerIndia_Tweet_Counts',\n",
       "       'LOOKBOOK.nu', 'FPTraffic', 'William Travis Hardman',\n",
       "       'SPTK: PutnamDV', 'Daily Voice Suffolk County', 'Boost Old Posts',\n",
       "       'TheWhiteHouse', 'Twitter VIT App for iOS', 'CletusDroo',\n",
       "       'iHeartMedia Publishing', 'Metigy', 'WIZS 1450 AM',\n",
       "       'Clarabridge Engage', 'NewsFromDonbass', 'Plurk',\n",
       "       'feather for iOS  ', 'Partisan Issues?', 'POZ Army Auto Tweets',\n",
       "       'InfoBlaze Southeast Asia', 'Conservative Daily News',\n",
       "       'MomoRScrape', 'Sendible', 'News Users', 'twidered',\n",
       "       ' autopo.st - @Radio_Lichfield', 'apherald', 'InfoBlaze India',\n",
       "       'JustVent.LIVE', 'CyberSecDN v.7', 'SameraVinson', 'Hiplay',\n",
       "       'doctroidbot', 'Poshmark', 'rtweet_token_sc', 'Paradym Social',\n",
       "       'covid-19data', 'Covid19MT', 'Cawbird', 'Auto tweets',\n",
       "       'Blaq for BlackBerry® 10', 'CoronaWatchUSA', 'oysttyer',\n",
       "       'Radiology: AI app'], dtype=object)"
      ]
     },
     "execution_count": 15,
     "metadata": {},
     "output_type": "execute_result"
    }
   ],
   "source": [
    "data['source'].unique()"
   ]
  },
  {
   "cell_type": "code",
   "execution_count": 17,
   "metadata": {},
   "outputs": [
    {
     "name": "stdout",
     "output_type": "stream",
     "text": [
      "There are 610 uniques sources\n"
     ]
    }
   ],
   "source": [
    "print('There are {} uniques sources'.format(data['source'].nunique()))"
   ]
  },
  {
   "cell_type": "code",
   "execution_count": 18,
   "metadata": {},
   "outputs": [
    {
     "data": {
      "text/plain": [
       "Twitter Web App              56891\n",
       "Twitter for Android          40179\n",
       "Twitter for iPhone           35472\n",
       "TweetDeck                     8543\n",
       "Hootsuite Inc.                7321\n",
       "                             ...  \n",
       "DataBlogger                      1\n",
       "Dear_Assistant                   1\n",
       "OnlyPultCom                      1\n",
       "Washington Square Parkerz        1\n",
       "Radiology: AI app                1\n",
       "Name: source, Length: 610, dtype: int64"
      ]
     },
     "execution_count": 18,
     "metadata": {},
     "output_type": "execute_result"
    }
   ],
   "source": [
    "data['source'].value_counts()"
   ]
  },
  {
   "attachments": {},
   "cell_type": "markdown",
   "metadata": {},
   "source": [
    "Top 20 sources of tweets."
   ]
  },
  {
   "cell_type": "code",
   "execution_count": 19,
   "metadata": {},
   "outputs": [
    {
     "data": {
      "text/plain": [
       "Twitter Web App         56891\n",
       "Twitter for Android     40179\n",
       "Twitter for iPhone      35472\n",
       "TweetDeck                8543\n",
       "Hootsuite Inc.           7321\n",
       "Twitter for iPad         4336\n",
       "Buffer                   2728\n",
       "Sprout Social            1833\n",
       "Instagram                1759\n",
       "IFTTT                    1545\n",
       "dlvr.it                   681\n",
       "GlobalPandemic.NET        679\n",
       "LinkedIn                  628\n",
       "COVID19-Updates           625\n",
       "Twitter Media Studio      596\n",
       "WordPress.com             537\n",
       "HubSpot                   513\n",
       "Sprinklr                  497\n",
       "FS Poster                 414\n",
       "Dynamic Signal            391\n",
       "Name: source, dtype: int64"
      ]
     },
     "execution_count": 19,
     "metadata": {},
     "output_type": "execute_result"
    }
   ],
   "source": [
    "data['source'].value_counts().nlargest(20)"
   ]
  },
  {
   "cell_type": "code",
   "execution_count": 20,
   "metadata": {},
   "outputs": [
    {
     "data": {
      "image/png": "[encoded data removed]",
      "text/plain": [
       "<Figure size 2000x1000 with 1 Axes>"
      ]
     },
     "metadata": {},
     "output_type": "display_data"
    }
   ],
   "source": [
    "plt.figure(figsize = (20,10))\n",
    "data['source'].value_counts().nlargest(20).plot(kind='bar')\n",
    "plt.xticks(rotation = 45)\n",
    "plt.show()"
   ]
  },
  {
   "cell_type": "markdown",
   "metadata": {},
   "source": [
    "Majority of the tweets were made from twitter web app, followed by twitter for android and others."
   ]
  },
  {
   "cell_type": "markdown",
   "metadata": {},
   "source": [
    "#### Tweet Locations."
   ]
  },
  {
   "cell_type": "code",
   "execution_count": 22,
   "metadata": {},
   "outputs": [
    {
     "data": {
      "text/plain": [
       "India                         3741\n",
       "United States                 2455\n",
       "New Delhi, India              1721\n",
       "Mumbai, India                 1401\n",
       "Washington, DC                1354\n",
       "                              ... \n",
       "Crystal Lake, IL                 1\n",
       "Johnstown, PA                    1\n",
       "A little east of LAX...          1\n",
       "#Ireland                         1\n",
       "Aliwal North, South Africa       1\n",
       "Name: user_location, Length: 26920, dtype: int64"
      ]
     },
     "execution_count": 22,
     "metadata": {},
     "output_type": "execute_result"
    }
   ],
   "source": [
    "data['user_location'].value_counts()"
   ]
  },
  {
   "cell_type": "markdown",
   "metadata": {},
   "source": [
    "Top 20 locations of users."
   ]
  },
  {
   "cell_type": "code",
   "execution_count": 23,
   "metadata": {},
   "outputs": [
    {
     "data": {
      "text/plain": [
       "India               3741\n",
       "United States       2455\n",
       "New Delhi, India    1721\n",
       "Mumbai, India       1401\n",
       "Washington, DC      1354\n",
       "London, England     1269\n",
       "United Kingdom      1206\n",
       "London              1103\n",
       "New York, NY        1082\n",
       "Australia            964\n",
       "Worldwide            879\n",
       "Canada               835\n",
       "New Delhi            822\n",
       "USA                  817\n",
       "UK                   803\n",
       "WORLDWIDE            777\n",
       "Los Angeles, CA      776\n",
       "South Africa         766\n",
       "Lagos, Nigeria       731\n",
       "California, USA      709\n",
       "Name: user_location, dtype: int64"
      ]
     },
     "execution_count": 23,
     "metadata": {},
     "output_type": "execute_result"
    }
   ],
   "source": [
    "data['user_location'].value_counts().nlargest(20)"
   ]
  },
  {
   "cell_type": "code",
   "execution_count": 24,
   "metadata": {},
   "outputs": [
    {
     "data": {
      "image/png": "[encoded data removed]",
      "text/plain": [
       "<Figure size 2000x1000 with 1 Axes>"
      ]
     },
     "metadata": {},
     "output_type": "display_data"
    }
   ],
   "source": [
    "plt.figure(figsize = (20,10))\n",
    "data['user_location'].value_counts().nlargest(20).plot(kind='bar')\n",
    "plt.xticks(rotation = 45)\n",
    "plt.show()"
   ]
  },
  {
   "attachments": {},
   "cell_type": "markdown",
   "metadata": {},
   "source": [
    "## Text Analysis of tweets.\n",
    "\n",
    "Clean Text by: \n",
    "- Remove user handles\n",
    "- Remove hashtags\n",
    "- Remove emojis\n",
    "- Remove urls"
   ]
  },
  {
   "cell_type": "code",
   "execution_count": 25,
   "metadata": {},
   "outputs": [
    {
     "name": "stdout",
     "output_type": "stream",
     "text": [
      "['BTC_ADDRESS_REGEX', 'CURRENCY_REGEX', 'CURRENCY_SYMB_REGEX', 'Counter', 'DATE_REGEX', 'EMAIL_REGEX', 'EMOJI_REGEX', 'HASTAG_REGEX', 'MASTERCard_REGEX', 'MD5_SHA_REGEX', 'MOST_COMMON_PUNCT_REGEX', 'NUMBERS_REGEX', 'PHONE_REGEX', 'PoBOX_REGEX', 'SPECIAL_CHARACTERS_REGEX', 'STOPWORDS', 'STOPWORDS_de', 'STOPWORDS_en', 'STOPWORDS_es', 'STOPWORDS_fr', 'STOPWORDS_ru', 'STOPWORDS_yo', 'STREET_ADDRESS_REGEX', 'TextFrame', 'URL_PATTERN', 'USER_HANDLES_REGEX', 'VISACard_REGEX', '__builtins__', '__cached__', '__doc__', '__file__', '__generate_text', '__loader__', '__name__', '__numbers_dict', '__package__', '__spec__', '_lex_richness_herdan', '_lex_richness_maas_ttr', 'clean_text', 'defaultdict', 'digit2words', 'extract_btc_address', 'extract_currencies', 'extract_currency_symbols', 'extract_dates', 'extract_emails', 'extract_emojis', 'extract_hashtags', 'extract_html_tags', 'extract_mastercard_addr', 'extract_md5sha', 'extract_numbers', 'extract_pattern', 'extract_phone_numbers', 'extract_postoffice_box', 'extract_shortwords', 'extract_special_characters', 'extract_stopwords', 'extract_street_address', 'extract_terms_in_bracket', 'extract_urls', 'extract_userhandles', 'extract_visacard_addr', 'fix_contractions', 'generate_sentence', 'hamming_distance', 'inverse_df', 'lexical_richness', 'markov_chain', 'math', 'nlargest', 'normalize', 'num2words', 'random', 're', 'read_txt', 'remove_accents', 'remove_bad_quotes', 'remove_btc_address', 'remove_currencies', 'remove_currency_symbols', 'remove_custom_pattern', 'remove_custom_words', 'remove_dates', 'remove_emails', 'remove_emojis', 'remove_hashtags', 'remove_html_tags', 'remove_mastercard_addr', 'remove_md5sha', 'remove_multiple_spaces', 'remove_non_ascii', 'remove_numbers', 'remove_phone_numbers', 'remove_postoffice_box', 'remove_puncts', 'remove_punctuations', 'remove_shortwords', 'remove_special_characters', 'remove_stopwords', 'remove_street_address', 'remove_terms_in_bracket', 'remove_urls', 'remove_userhandles', 'remove_visacard_addr', 'replace_bad_quotes', 'replace_currencies', 'replace_currency_symbols', 'replace_dates', 'replace_emails', 'replace_emojis', 'replace_numbers', 'replace_phone_numbers', 'replace_special_characters', 'replace_term', 'replace_urls', 'string', 'term_freq', 'to_txt', 'unicodedata', 'word_freq', 'word_length_freq']\n"
     ]
    }
   ],
   "source": [
    "print(dir(nfx))"
   ]
  },
  {
   "cell_type": "code",
   "execution_count": 26,
   "metadata": {},
   "outputs": [
    {
     "data": {
      "text/plain": [
       "'@diane3443 @wdunlap @realDonaldTrump Trump never once claimed #COVID19 was a hoax. We all claim that this effort to… https://t.co/Jkk8vHWHb3'"
      ]
     },
     "execution_count": 26,
     "metadata": {},
     "output_type": "execute_result"
    }
   ],
   "source": [
    "data.text.iloc[2]"
   ]
  },
  {
   "cell_type": "code",
   "execution_count": 16,
   "metadata": {},
   "outputs": [],
   "source": [
    "data['extracted_hashtags'] = data['text'].apply(nfx.extract_hashtags)"
   ]
  },
  {
   "cell_type": "code",
   "execution_count": 17,
   "metadata": {},
   "outputs": [
    {
     "data": {
      "text/html": [
       "<div>\n",
       "<style scoped>\n",
       "    .dataframe tbody tr th:only-of-type {\n",
       "        vertical-align: middle;\n",
       "    }\n",
       "\n",
       "    .dataframe tbody tr th {\n",
       "        vertical-align: top;\n",
       "    }\n",
       "\n",
       "    .dataframe thead th {\n",
       "        text-align: right;\n",
       "    }\n",
       "</style>\n",
       "<table border=\"1\" class=\"dataframe\">\n",
       "  <thead>\n",
       "    <tr style=\"text-align: right;\">\n",
       "      <th></th>\n",
       "      <th>extracted_hashtags</th>\n",
       "      <th>hashtags</th>\n",
       "    </tr>\n",
       "  </thead>\n",
       "  <tbody>\n",
       "    <tr>\n",
       "      <th>0</th>\n",
       "      <td>[]</td>\n",
       "      <td>NaN</td>\n",
       "    </tr>\n",
       "    <tr>\n",
       "      <th>1</th>\n",
       "      <td>[]</td>\n",
       "      <td>NaN</td>\n",
       "    </tr>\n",
       "    <tr>\n",
       "      <th>2</th>\n",
       "      <td>[#COVID19]</td>\n",
       "      <td>['COVID19']</td>\n",
       "    </tr>\n",
       "    <tr>\n",
       "      <th>3</th>\n",
       "      <td>[#COVID19]</td>\n",
       "      <td>['COVID19']</td>\n",
       "    </tr>\n",
       "    <tr>\n",
       "      <th>4</th>\n",
       "      <td>[#CoronaVirusUpdates, #COVID19]</td>\n",
       "      <td>['CoronaVirusUpdates', 'COVID19']</td>\n",
       "    </tr>\n",
       "    <tr>\n",
       "      <th>...</th>\n",
       "      <td>...</td>\n",
       "      <td>...</td>\n",
       "    </tr>\n",
       "    <tr>\n",
       "      <th>179103</th>\n",
       "      <td>[#WearAMask]</td>\n",
       "      <td>['WearAMask']</td>\n",
       "    </tr>\n",
       "    <tr>\n",
       "      <th>179104</th>\n",
       "      <td>[#COVID19]</td>\n",
       "      <td>['COVID19']</td>\n",
       "    </tr>\n",
       "    <tr>\n",
       "      <th>179105</th>\n",
       "      <td>[]</td>\n",
       "      <td>NaN</td>\n",
       "    </tr>\n",
       "    <tr>\n",
       "      <th>179106</th>\n",
       "      <td>[#COVID19]</td>\n",
       "      <td>['COVID19']</td>\n",
       "    </tr>\n",
       "    <tr>\n",
       "      <th>179107</th>\n",
       "      <td>[]</td>\n",
       "      <td>NaN</td>\n",
       "    </tr>\n",
       "  </tbody>\n",
       "</table>\n",
       "<p>179108 rows × 2 columns</p>\n",
       "</div>"
      ],
      "text/plain": [
       "                     extracted_hashtags                           hashtags\n",
       "0                                    []                                NaN\n",
       "1                                    []                                NaN\n",
       "2                            [#COVID19]                        ['COVID19']\n",
       "3                            [#COVID19]                        ['COVID19']\n",
       "4       [#CoronaVirusUpdates, #COVID19]  ['CoronaVirusUpdates', 'COVID19']\n",
       "...                                 ...                                ...\n",
       "179103                     [#WearAMask]                      ['WearAMask']\n",
       "179104                       [#COVID19]                        ['COVID19']\n",
       "179105                               []                                NaN\n",
       "179106                       [#COVID19]                        ['COVID19']\n",
       "179107                               []                                NaN\n",
       "\n",
       "[179108 rows x 2 columns]"
      ]
     },
     "execution_count": 17,
     "metadata": {},
     "output_type": "execute_result"
    }
   ],
   "source": [
    "data[['extracted_hashtags','hashtags']]"
   ]
  },
  {
   "cell_type": "code",
   "execution_count": 18,
   "metadata": {},
   "outputs": [],
   "source": [
    "# Find percentage that matches"
   ]
  },
  {
   "cell_type": "code",
   "execution_count": 19,
   "metadata": {},
   "outputs": [],
   "source": [
    "data['clean_tweet'] = data['text'].apply(nfx.remove_hashtags)"
   ]
  },
  {
   "cell_type": "code",
   "execution_count": 20,
   "metadata": {},
   "outputs": [
    {
     "data": {
      "text/html": [
       "<div>\n",
       "<style scoped>\n",
       "    .dataframe tbody tr th:only-of-type {\n",
       "        vertical-align: middle;\n",
       "    }\n",
       "\n",
       "    .dataframe tbody tr th {\n",
       "        vertical-align: top;\n",
       "    }\n",
       "\n",
       "    .dataframe thead th {\n",
       "        text-align: right;\n",
       "    }\n",
       "</style>\n",
       "<table border=\"1\" class=\"dataframe\">\n",
       "  <thead>\n",
       "    <tr style=\"text-align: right;\">\n",
       "      <th></th>\n",
       "      <th>clean_tweet</th>\n",
       "      <th>text</th>\n",
       "    </tr>\n",
       "  </thead>\n",
       "  <tbody>\n",
       "    <tr>\n",
       "      <th>0</th>\n",
       "      <td>If I smelled the scent of hand sanitizers toda...</td>\n",
       "      <td>If I smelled the scent of hand sanitizers toda...</td>\n",
       "    </tr>\n",
       "    <tr>\n",
       "      <th>1</th>\n",
       "      <td>Hey @Yankees @YankeesPR and @MLB - wouldn't it...</td>\n",
       "      <td>Hey @Yankees @YankeesPR and @MLB - wouldn't it...</td>\n",
       "    </tr>\n",
       "    <tr>\n",
       "      <th>2</th>\n",
       "      <td>@diane3443 @wdunlap @realDonaldTrump Trump nev...</td>\n",
       "      <td>@diane3443 @wdunlap @realDonaldTrump Trump nev...</td>\n",
       "    </tr>\n",
       "    <tr>\n",
       "      <th>3</th>\n",
       "      <td>@brookbanktv The one gift   has give me is an ...</td>\n",
       "      <td>@brookbanktv The one gift #COVID19 has give me...</td>\n",
       "    </tr>\n",
       "    <tr>\n",
       "      <th>4</th>\n",
       "      <td>25 July : Media Bulletin on Novel     \\n@kansa...</td>\n",
       "      <td>25 July : Media Bulletin on Novel #CoronaVirus...</td>\n",
       "    </tr>\n",
       "    <tr>\n",
       "      <th>...</th>\n",
       "      <td>...</td>\n",
       "      <td>...</td>\n",
       "    </tr>\n",
       "    <tr>\n",
       "      <th>179103</th>\n",
       "      <td>Thanks @IamOhmai for nominating me for the @WH...</td>\n",
       "      <td>Thanks @IamOhmai for nominating me for the @WH...</td>\n",
       "    </tr>\n",
       "    <tr>\n",
       "      <th>179104</th>\n",
       "      <td>2020! The year of insanity! Lol!   https://t.c...</td>\n",
       "      <td>2020! The year of insanity! Lol! #COVID19 http...</td>\n",
       "    </tr>\n",
       "    <tr>\n",
       "      <th>179105</th>\n",
       "      <td>@CTVNews A powerful painting by Juan Lucena. I...</td>\n",
       "      <td>@CTVNews A powerful painting by Juan Lucena. I...</td>\n",
       "    </tr>\n",
       "    <tr>\n",
       "      <th>179106</th>\n",
       "      <td>More than 1,200 students test positive for   a...</td>\n",
       "      <td>More than 1,200 students test positive for #CO...</td>\n",
       "    </tr>\n",
       "    <tr>\n",
       "      <th>179107</th>\n",
       "      <td>I stop when I see a Stop\\n\\n@SABCNews\\n@Izinda...</td>\n",
       "      <td>I stop when I see a Stop\\n\\n@SABCNews\\n@Izinda...</td>\n",
       "    </tr>\n",
       "  </tbody>\n",
       "</table>\n",
       "<p>179108 rows × 2 columns</p>\n",
       "</div>"
      ],
      "text/plain": [
       "                                              clean_tweet  \\\n",
       "0       If I smelled the scent of hand sanitizers toda...   \n",
       "1       Hey @Yankees @YankeesPR and @MLB - wouldn't it...   \n",
       "2       @diane3443 @wdunlap @realDonaldTrump Trump nev...   \n",
       "3       @brookbanktv The one gift   has give me is an ...   \n",
       "4       25 July : Media Bulletin on Novel     \\n@kansa...   \n",
       "...                                                   ...   \n",
       "179103  Thanks @IamOhmai for nominating me for the @WH...   \n",
       "179104  2020! The year of insanity! Lol!   https://t.c...   \n",
       "179105  @CTVNews A powerful painting by Juan Lucena. I...   \n",
       "179106  More than 1,200 students test positive for   a...   \n",
       "179107  I stop when I see a Stop\\n\\n@SABCNews\\n@Izinda...   \n",
       "\n",
       "                                                     text  \n",
       "0       If I smelled the scent of hand sanitizers toda...  \n",
       "1       Hey @Yankees @YankeesPR and @MLB - wouldn't it...  \n",
       "2       @diane3443 @wdunlap @realDonaldTrump Trump nev...  \n",
       "3       @brookbanktv The one gift #COVID19 has give me...  \n",
       "4       25 July : Media Bulletin on Novel #CoronaVirus...  \n",
       "...                                                   ...  \n",
       "179103  Thanks @IamOhmai for nominating me for the @WH...  \n",
       "179104  2020! The year of insanity! Lol! #COVID19 http...  \n",
       "179105  @CTVNews A powerful painting by Juan Lucena. I...  \n",
       "179106  More than 1,200 students test positive for #CO...  \n",
       "179107  I stop when I see a Stop\\n\\n@SABCNews\\n@Izinda...  \n",
       "\n",
       "[179108 rows x 2 columns]"
      ]
     },
     "execution_count": 20,
     "metadata": {},
     "output_type": "execute_result"
    }
   ],
   "source": [
    "data[['clean_tweet','text']]"
   ]
  },
  {
   "cell_type": "code",
   "execution_count": 21,
   "metadata": {},
   "outputs": [],
   "source": [
    "data['clean_tweet'] = data['clean_tweet'].apply(lambda x: nfx.remove_userhandles(x))"
   ]
  },
  {
   "cell_type": "code",
   "execution_count": 22,
   "metadata": {},
   "outputs": [
    {
     "data": {
      "text/html": [
       "<div>\n",
       "<style scoped>\n",
       "    .dataframe tbody tr th:only-of-type {\n",
       "        vertical-align: middle;\n",
       "    }\n",
       "\n",
       "    .dataframe tbody tr th {\n",
       "        vertical-align: top;\n",
       "    }\n",
       "\n",
       "    .dataframe thead th {\n",
       "        text-align: right;\n",
       "    }\n",
       "</style>\n",
       "<table border=\"1\" class=\"dataframe\">\n",
       "  <thead>\n",
       "    <tr style=\"text-align: right;\">\n",
       "      <th></th>\n",
       "      <th>clean_tweet</th>\n",
       "      <th>text</th>\n",
       "    </tr>\n",
       "  </thead>\n",
       "  <tbody>\n",
       "    <tr>\n",
       "      <th>0</th>\n",
       "      <td>If I smelled the scent of hand sanitizers toda...</td>\n",
       "      <td>If I smelled the scent of hand sanitizers toda...</td>\n",
       "    </tr>\n",
       "    <tr>\n",
       "      <th>1</th>\n",
       "      <td>Hey     and   - wouldn't it have made more sen...</td>\n",
       "      <td>Hey @Yankees @YankeesPR and @MLB - wouldn't it...</td>\n",
       "    </tr>\n",
       "    <tr>\n",
       "      <th>2</th>\n",
       "      <td>Trump never once claimed   was a hoax. W...</td>\n",
       "      <td>@diane3443 @wdunlap @realDonaldTrump Trump nev...</td>\n",
       "    </tr>\n",
       "    <tr>\n",
       "      <th>3</th>\n",
       "      <td>The one gift   has give me is an appreciatio...</td>\n",
       "      <td>@brookbanktv The one gift #COVID19 has give me...</td>\n",
       "    </tr>\n",
       "    <tr>\n",
       "      <th>4</th>\n",
       "      <td>25 July : Media Bulletin on Novel     \\n      ...</td>\n",
       "      <td>25 July : Media Bulletin on Novel #CoronaVirus...</td>\n",
       "    </tr>\n",
       "    <tr>\n",
       "      <th>...</th>\n",
       "      <td>...</td>\n",
       "      <td>...</td>\n",
       "    </tr>\n",
       "    <tr>\n",
       "      <th>179103</th>\n",
       "      <td>Thanks   for nominating me for the     challen...</td>\n",
       "      <td>Thanks @IamOhmai for nominating me for the @WH...</td>\n",
       "    </tr>\n",
       "    <tr>\n",
       "      <th>179104</th>\n",
       "      <td>2020! The year of insanity! Lol!   https://t.c...</td>\n",
       "      <td>2020! The year of insanity! Lol! #COVID19 http...</td>\n",
       "    </tr>\n",
       "    <tr>\n",
       "      <th>179105</th>\n",
       "      <td>A powerful painting by Juan Lucena. It's a t...</td>\n",
       "      <td>@CTVNews A powerful painting by Juan Lucena. I...</td>\n",
       "    </tr>\n",
       "    <tr>\n",
       "      <th>179106</th>\n",
       "      <td>More than 1,200 students test positive for   a...</td>\n",
       "      <td>More than 1,200 students test positive for #CO...</td>\n",
       "    </tr>\n",
       "    <tr>\n",
       "      <th>179107</th>\n",
       "      <td>I stop when I see a Stop\\n\\n \\n \\n \\n \\n \\n \\n...</td>\n",
       "      <td>I stop when I see a Stop\\n\\n@SABCNews\\n@Izinda...</td>\n",
       "    </tr>\n",
       "  </tbody>\n",
       "</table>\n",
       "<p>179108 rows × 2 columns</p>\n",
       "</div>"
      ],
      "text/plain": [
       "                                              clean_tweet  \\\n",
       "0       If I smelled the scent of hand sanitizers toda...   \n",
       "1       Hey     and   - wouldn't it have made more sen...   \n",
       "2             Trump never once claimed   was a hoax. W...   \n",
       "3         The one gift   has give me is an appreciatio...   \n",
       "4       25 July : Media Bulletin on Novel     \\n      ...   \n",
       "...                                                   ...   \n",
       "179103  Thanks   for nominating me for the     challen...   \n",
       "179104  2020! The year of insanity! Lol!   https://t.c...   \n",
       "179105    A powerful painting by Juan Lucena. It's a t...   \n",
       "179106  More than 1,200 students test positive for   a...   \n",
       "179107  I stop when I see a Stop\\n\\n \\n \\n \\n \\n \\n \\n...   \n",
       "\n",
       "                                                     text  \n",
       "0       If I smelled the scent of hand sanitizers toda...  \n",
       "1       Hey @Yankees @YankeesPR and @MLB - wouldn't it...  \n",
       "2       @diane3443 @wdunlap @realDonaldTrump Trump nev...  \n",
       "3       @brookbanktv The one gift #COVID19 has give me...  \n",
       "4       25 July : Media Bulletin on Novel #CoronaVirus...  \n",
       "...                                                   ...  \n",
       "179103  Thanks @IamOhmai for nominating me for the @WH...  \n",
       "179104  2020! The year of insanity! Lol! #COVID19 http...  \n",
       "179105  @CTVNews A powerful painting by Juan Lucena. I...  \n",
       "179106  More than 1,200 students test positive for #CO...  \n",
       "179107  I stop when I see a Stop\\n\\n@SABCNews\\n@Izinda...  \n",
       "\n",
       "[179108 rows x 2 columns]"
      ]
     },
     "execution_count": 22,
     "metadata": {},
     "output_type": "execute_result"
    }
   ],
   "source": [
    "data[['clean_tweet','text']]"
   ]
  },
  {
   "cell_type": "code",
   "execution_count": 23,
   "metadata": {},
   "outputs": [
    {
     "data": {
      "text/plain": [
       "'49K+ Covid19 cases still no response from \\n      cancel the compartment exa… https://t.co/kV2ZKmumu1'"
      ]
     },
     "execution_count": 23,
     "metadata": {},
     "output_type": "execute_result"
    }
   ],
   "source": [
    "data.clean_tweet.iloc[10]"
   ]
  },
  {
   "cell_type": "code",
   "execution_count": 24,
   "metadata": {},
   "outputs": [],
   "source": [
    "data['clean_tweet'] = data['clean_tweet'].apply(lambda x: nfx.remove_multiple_spaces(x))"
   ]
  },
  {
   "cell_type": "code",
   "execution_count": 25,
   "metadata": {},
   "outputs": [
    {
     "data": {
      "text/html": [
       "<div>\n",
       "<style scoped>\n",
       "    .dataframe tbody tr th:only-of-type {\n",
       "        vertical-align: middle;\n",
       "    }\n",
       "\n",
       "    .dataframe tbody tr th {\n",
       "        vertical-align: top;\n",
       "    }\n",
       "\n",
       "    .dataframe thead th {\n",
       "        text-align: right;\n",
       "    }\n",
       "</style>\n",
       "<table border=\"1\" class=\"dataframe\">\n",
       "  <thead>\n",
       "    <tr style=\"text-align: right;\">\n",
       "      <th></th>\n",
       "      <th>clean_tweet</th>\n",
       "      <th>text</th>\n",
       "    </tr>\n",
       "  </thead>\n",
       "  <tbody>\n",
       "    <tr>\n",
       "      <th>0</th>\n",
       "      <td>If I smelled the scent of hand sanitizers toda...</td>\n",
       "      <td>If I smelled the scent of hand sanitizers toda...</td>\n",
       "    </tr>\n",
       "    <tr>\n",
       "      <th>1</th>\n",
       "      <td>Hey and - wouldn't it have made more sense to ...</td>\n",
       "      <td>Hey @Yankees @YankeesPR and @MLB - wouldn't it...</td>\n",
       "    </tr>\n",
       "    <tr>\n",
       "      <th>2</th>\n",
       "      <td>Trump never once claimed was a hoax. We all c...</td>\n",
       "      <td>@diane3443 @wdunlap @realDonaldTrump Trump nev...</td>\n",
       "    </tr>\n",
       "    <tr>\n",
       "      <th>3</th>\n",
       "      <td>The one gift has give me is an appreciation f...</td>\n",
       "      <td>@brookbanktv The one gift #COVID19 has give me...</td>\n",
       "    </tr>\n",
       "    <tr>\n",
       "      <th>4</th>\n",
       "      <td>25 July : Media Bulletin on Novel https://t.co...</td>\n",
       "      <td>25 July : Media Bulletin on Novel #CoronaVirus...</td>\n",
       "    </tr>\n",
       "    <tr>\n",
       "      <th>...</th>\n",
       "      <td>...</td>\n",
       "      <td>...</td>\n",
       "    </tr>\n",
       "    <tr>\n",
       "      <th>179103</th>\n",
       "      <td>Thanks for nominating me for the challenge. I ...</td>\n",
       "      <td>Thanks @IamOhmai for nominating me for the @WH...</td>\n",
       "    </tr>\n",
       "    <tr>\n",
       "      <th>179104</th>\n",
       "      <td>2020! The year of insanity! Lol! https://t.co/...</td>\n",
       "      <td>2020! The year of insanity! Lol! #COVID19 http...</td>\n",
       "    </tr>\n",
       "    <tr>\n",
       "      <th>179105</th>\n",
       "      <td>A powerful painting by Juan Lucena. It's a tr...</td>\n",
       "      <td>@CTVNews A powerful painting by Juan Lucena. I...</td>\n",
       "    </tr>\n",
       "    <tr>\n",
       "      <th>179106</th>\n",
       "      <td>More than 1,200 students test positive for at ...</td>\n",
       "      <td>More than 1,200 students test positive for #CO...</td>\n",
       "    </tr>\n",
       "    <tr>\n",
       "      <th>179107</th>\n",
       "      <td>I stop when I see a Stop https://t.co/ReG8pwZoN7</td>\n",
       "      <td>I stop when I see a Stop\\n\\n@SABCNews\\n@Izinda...</td>\n",
       "    </tr>\n",
       "  </tbody>\n",
       "</table>\n",
       "<p>179108 rows × 2 columns</p>\n",
       "</div>"
      ],
      "text/plain": [
       "                                              clean_tweet  \\\n",
       "0       If I smelled the scent of hand sanitizers toda...   \n",
       "1       Hey and - wouldn't it have made more sense to ...   \n",
       "2        Trump never once claimed was a hoax. We all c...   \n",
       "3        The one gift has give me is an appreciation f...   \n",
       "4       25 July : Media Bulletin on Novel https://t.co...   \n",
       "...                                                   ...   \n",
       "179103  Thanks for nominating me for the challenge. I ...   \n",
       "179104  2020! The year of insanity! Lol! https://t.co/...   \n",
       "179105   A powerful painting by Juan Lucena. It's a tr...   \n",
       "179106  More than 1,200 students test positive for at ...   \n",
       "179107   I stop when I see a Stop https://t.co/ReG8pwZoN7   \n",
       "\n",
       "                                                     text  \n",
       "0       If I smelled the scent of hand sanitizers toda...  \n",
       "1       Hey @Yankees @YankeesPR and @MLB - wouldn't it...  \n",
       "2       @diane3443 @wdunlap @realDonaldTrump Trump nev...  \n",
       "3       @brookbanktv The one gift #COVID19 has give me...  \n",
       "4       25 July : Media Bulletin on Novel #CoronaVirus...  \n",
       "...                                                   ...  \n",
       "179103  Thanks @IamOhmai for nominating me for the @WH...  \n",
       "179104  2020! The year of insanity! Lol! #COVID19 http...  \n",
       "179105  @CTVNews A powerful painting by Juan Lucena. I...  \n",
       "179106  More than 1,200 students test positive for #CO...  \n",
       "179107  I stop when I see a Stop\\n\\n@SABCNews\\n@Izinda...  \n",
       "\n",
       "[179108 rows x 2 columns]"
      ]
     },
     "execution_count": 25,
     "metadata": {},
     "output_type": "execute_result"
    }
   ],
   "source": [
    "data[['clean_tweet','text']]"
   ]
  },
  {
   "cell_type": "code",
   "execution_count": 26,
   "metadata": {},
   "outputs": [],
   "source": [
    "data['clean_tweet'] = data['clean_tweet'].apply(nfx.remove_urls)"
   ]
  },
  {
   "cell_type": "code",
   "execution_count": 28,
   "metadata": {},
   "outputs": [],
   "source": [
    "# Take out special characters"
   ]
  },
  {
   "cell_type": "code",
   "execution_count": 27,
   "metadata": {},
   "outputs": [],
   "source": [
    "data['clean_tweet'] = data['clean_tweet'].apply(nfx.remove_puncts)"
   ]
  },
  {
   "cell_type": "markdown",
   "metadata": {},
   "source": [
    "### Sentiment Analysis"
   ]
  },
  {
   "cell_type": "code",
   "execution_count": null,
   "metadata": {},
   "outputs": [],
   "source": []
  }
 ],
 "metadata": {
  "kernelspec": {
   "display_name": "base",
   "language": "python",
   "name": "python3"
  },
  "language_info": {
   "codemirror_mode": {
    "name": "ipython",
    "version": 3
   },
   "file_extension": ".py",
   "mimetype": "text/x-python",
   "name": "python",
   "nbconvert_exporter": "python",
   "pygments_lexer": "ipython3",
   "version": "3.9.12"
  },
  "orig_nbformat": 4,
  "vscode": {
   "interpreter": {
    "hash": "a077222d77dfe082b8f1dd562ad70e458ac2ab76993a0b248ab0476e32e9e8dd"
   }
  }
 },
 "nbformat": 4,
 "nbformat_minor": 2
}
